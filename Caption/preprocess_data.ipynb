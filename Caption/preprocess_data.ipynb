{
  "nbformat": 4,
  "nbformat_minor": 0,
  "metadata": {
    "colab": {
      "name": "preprocess_data.ipynb",
      "version": "0.3.2",
      "provenance": [],
      "collapsed_sections": []
    },
    "kernelspec": {
      "name": "python3",
      "display_name": "Python 3"
    },
    "accelerator": "GPU"
  },
  "cells": [
    {
      "metadata": {
        "id": "PTGW3kPrx2WD",
        "colab_type": "code",
        "colab": {
          "base_uri": "https://localhost:8080/",
          "height": 122
        },
        "outputId": "6da3943f-565a-43e8-961f-0aeceb9f1422"
      },
      "cell_type": "code",
      "source": [
        "from google.colab import drive \n",
        "drive.mount('/content/drive')"
      ],
      "execution_count": 5,
      "outputs": [
        {
          "output_type": "stream",
          "text": [
            "Go to this URL in a browser: https://accounts.google.com/o/oauth2/auth?client_id=947318989803-6bn6qk8qdgf4n4g3pfee6491hc0brc4i.apps.googleusercontent.com&redirect_uri=urn%3Aietf%3Awg%3Aoauth%3A2.0%3Aoob&scope=email%20https%3A%2F%2Fwww.googleapis.com%2Fauth%2Fdocs.test%20https%3A%2F%2Fwww.googleapis.com%2Fauth%2Fdrive%20https%3A%2F%2Fwww.googleapis.com%2Fauth%2Fdrive.photos.readonly%20https%3A%2F%2Fwww.googleapis.com%2Fauth%2Fpeopleapi.readonly&response_type=code\n",
            "\n",
            "Enter your authorization code:\n",
            "··········\n",
            "Mounted at /content/drive\n"
          ],
          "name": "stdout"
        }
      ]
    },
    {
      "metadata": {
        "id": "EpvdS7b8z7_H",
        "colab_type": "code",
        "colab": {}
      },
      "cell_type": "code",
      "source": [
        "#import modules \n",
        "from keras.applications.vgg16 import VGG16\n",
        "from keras.preprocessing.image import load_img \n",
        "from keras.preprocessing.image import img_to_array\n",
        "from keras.applications.vgg16 import preprocess_input\n",
        "from keras.models import Model\n",
        "from pickle import dump \n",
        "from os import listdir "
      ],
      "execution_count": 0,
      "outputs": []
    },
    {
      "metadata": {
        "id": "dyMrEGlM3OgC",
        "colab_type": "code",
        "colab": {}
      },
      "cell_type": "code",
      "source": [
        "\n",
        "# extract features from each photo in the directory\n",
        "def extract_features(directory):\n",
        "    model = VGG16()\n",
        "    model.layers.pop()\n",
        "    model = Model(inputs=model.inputs, outputs=model.layers[-1].output)\n",
        "    features = dict()\n",
        "    for name in listdir(directory):\n",
        "        filename = directory + '/' + name\n",
        "        image = load_img(filename, target_size=(224, 224))\n",
        "        image = img_to_array(image)\n",
        "        image = image.reshape((1, image.shape[0], image.shape[1], image.shape[2]))\n",
        "        image = preprocess_input(image)\n",
        "        feature = model.predict(image, verbose=0)\n",
        "        image_id = name.split('.')[0]\n",
        "        features[image_id] = feature\n",
        "        if len(features) % 20 == 0 : \n",
        "            print(len(features), end = \" \")\n"
      ],
      "execution_count": 0,
      "outputs": []
    },
    {
      "metadata": {
        "id": "4A04nW2Hyb9b",
        "colab_type": "code",
        "colab": {
          "base_uri": "https://localhost:8080/",
          "height": 54
        },
        "outputId": "4f06f507-efca-4963-ad59-17bfe9cad6d5"
      },
      "cell_type": "code",
      "source": [
        "#calling the function \n",
        "features = extract_features('/content/drive/My Drive/Colab Notebooks/dataset/Dataset')\n",
        "dump( features , open('/content/drive/My Drive/Colab Notebooks/features.pkl', 'wb') )"
      ],
      "execution_count": 25,
      "outputs": [
        {
          "output_type": "stream",
          "text": [
            "20 40 60 80 100 120 140 160 180 200 220 240 260 280 300 320 340 360 380 400 420 440 460 480 500 520 540 560 580 600 620 640 660 680 700 720 740 760 780 800 820 840 860 880 900 920 940 960 980 1000 "
          ],
          "name": "stdout"
        }
      ]
    },
    {
      "metadata": {
        "id": "ItJjYlPcxKZG",
        "colab_type": "code",
        "colab": {}
      },
      "cell_type": "code",
      "source": [
        "import string \n",
        "\n",
        "def load (name) : \n",
        "\tfile = open(name, 'r')\n",
        "\tdata = file.read() \n",
        "\tfile.close() \n",
        "\treturn data \n",
        "\n",
        "\n",
        "def save(descriptions, filename):\n",
        "\tlines = list()\n",
        "\tfor key, desc in descriptions.items():\n",
        "\t\t\tlines.append(key + ' ' + desc)\n",
        "\tdata = '\\n'.join(lines)\n",
        "\tfile = open(filename, 'w')\n",
        "\tfile.write(data)\n",
        "\tfile.close()\n",
        "\n",
        "def make_map(document) : \n",
        "\tmapping = {} \n",
        "\tfor line in document.split('\\n') : \n",
        "\t\twords = line.split() \n",
        "\t\tif len(line) < 2 : \n",
        "\t\t\tcontinue\n",
        "\t\timg_id , img_desc = words[0] , words[1:]\n",
        "\t\timg_id = img_id.split('.')[0] #jpeg removed \n",
        "\t\timg_desc = ' '.join(img_desc) # words combined to give one sentence\n",
        "\t\tmapping[img_id] = img_desc\n",
        "\t\tif len(mapping) == 1000  : \n",
        "\t\t\treturn mapping \n",
        "    \n",
        "def clean(descriptions):\n",
        "\ttable = str.maketrans('', '', string.punctuation) # table removes punctuation\n",
        "\tfor key, desc in descriptions.items():\n",
        "\t\t\tdesc = desc.split()\n",
        "\t\t\tdesc = [word.lower() for word in desc]\n",
        "\t\t\tdesc = [w.translate(table) for w in desc]\n",
        "\t\t\tdesc = [word for word in desc if len(word)>1 and word.isalpha() ]"
      ],
      "execution_count": 0,
      "outputs": []
    },
    {
      "metadata": {
        "id": "GcpFhpIx0a5n",
        "colab_type": "code",
        "colab": {}
      },
      "cell_type": "code",
      "source": [
        "data = load (\"/content/drive/My Drive/Colab Notebooks/tokens.txt\")\n",
        "img_desc = make_map(data)\t\n",
        "clean(img_desc) \n",
        "save(img_desc, '/content/drive/My Drive/Colab Notebooks/descriptions.txt')"
      ],
      "execution_count": 0,
      "outputs": []
    },
    {
      "metadata": {
        "id": "HYJt-Z2i086X",
        "colab_type": "code",
        "colab": {}
      },
      "cell_type": "code",
      "source": [
        ""
      ],
      "execution_count": 0,
      "outputs": []
    }
  ]
}