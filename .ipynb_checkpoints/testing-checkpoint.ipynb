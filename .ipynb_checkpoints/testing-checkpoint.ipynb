{
 "cells": [
  {
   "cell_type": "code",
   "execution_count": null,
   "metadata": {
    "collapsed": true
   },
   "outputs": [],
   "source": [
    "import sqlite3\n",
    "from datetime import date # get todays date\n",
    "\n",
    "def create_table():\n",
    "\tconn = sqlite3.connect(\"Expenditure.db\")\n",
    "\tcur = conn.cursor()\n",
    "\tcur.execute(\"CREATE TABLE IF NOT EXISTS Expenditure(ID INTEGER PRIMARY KEY, expenditure_date text, Item text, Cost real)\")\n",
    "\tconn.commit()\n",
    "\tconn.close()\n",
    "\n",
    "def insert_data(expenditure_date, item, cost):\n",
    "\tconn = sqlite3.connect(\"Expenditure.db\")\n",
    "\tcur = conn.cursor()\n",
    "\tcur.execute(\"INSERT INTO Expenditure VALUES (NULL, ?, ?, ?)\", (expenditure_date, item, cost))\n",
    "\tconn.commit()\n",
    "    conn.close()\n",
    "\n",
    "create_table()\n",
    "insert_data('123', 'hello', 30)"
   ]
  }
 ],
 "metadata": {
  "kernelspec": {
   "display_name": "Python 3",
   "language": "python",
   "name": "python3"
  },
  "language_info": {
   "codemirror_mode": {
    "name": "ipython",
    "version": 3
   },
   "file_extension": ".py",
   "mimetype": "text/x-python",
   "name": "python",
   "nbconvert_exporter": "python",
   "pygments_lexer": "ipython3",
   "version": "3.6.1"
  }
 },
 "nbformat": 4,
 "nbformat_minor": 2
}
